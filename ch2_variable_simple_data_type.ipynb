{
 "metadata": {
  "language_info": {
   "codemirror_mode": {
    "name": "ipython",
    "version": 3
   },
   "file_extension": ".py",
   "mimetype": "text/x-python",
   "name": "python",
   "nbconvert_exporter": "python",
   "pygments_lexer": "ipython3",
   "version": 3
  },
  "orig_nbformat": 2,
  "kernelspec": {
   "name": "python_defaultSpec_1595356583145",
   "display_name": "Python 3.8.4 64-bit"
  }
 },
 "nbformat": 4,
 "nbformat_minor": 2,
 "cells": [
  {
   "cell_type": "markdown",
   "metadata": {},
   "source": [
    "# Chapter 2 : Variables and Simple Data Types"
   ]
  },
  {
   "cell_type": "markdown",
   "metadata": {},
   "source": [
    "### 1. menjalankan program HelloWorld di python\n",
    "bukan hanya pada bahasa python, pada setiap kita belajar bahasa pemrograman baru, diwajibkan untuk memunculkan atau menampilkan teks *Hello World*"
   ]
  },
  {
   "cell_type": "code",
   "execution_count": 1,
   "metadata": {
    "tags": []
   },
   "outputs": [
    {
     "output_type": "stream",
     "name": "stdout",
     "text": "Hello World\n"
    }
   ],
   "source": [
    "print(\"Hello World\")"
   ]
  },
  {
   "cell_type": "markdown",
   "metadata": {},
   "source": [
    "Jika ingin menjalankan di cmd :\n",
    "- simpan script diatas dengan nama hello_world.py\n",
    "- panggil dengan cara python [nama_file] atau python3 [nama_file]\n",
    "    - python hello_world.py atau python3 hello_world.py"
   ]
  },
  {
   "cell_type": "markdown",
   "metadata": {},
   "source": [
    "### 2. Variabel"
   ]
  },
  {
   "cell_type": "code",
   "execution_count": 2,
   "metadata": {
    "tags": []
   },
   "outputs": [
    {
     "output_type": "stream",
     "name": "stdout",
     "text": "Hello World\n"
    }
   ],
   "source": [
    "pesan = \"Hello World\"\n",
    "print(pesan)"
   ]
  },
  {
   "cell_type": "code",
   "execution_count": 3,
   "metadata": {
    "tags": []
   },
   "outputs": [
    {
     "output_type": "stream",
     "name": "stdout",
     "text": "Hello World\nHello World 2\n"
    }
   ],
   "source": [
    "pesan = \"Hello World\"\n",
    "print(pesan)\n",
    "\n",
    "pesan = \"Hello World 2\"\n",
    "print(pesan)"
   ]
  },
  {
   "cell_type": "markdown",
   "metadata": {},
   "source": [
    "- Aturan Penamaan Variabel\n",
    "    1. nama variabel hanya bisa berupa *letter*, *number*, *underscores*. \n",
    "    Nama variabel bisa dimulai dengan *letter* (c. pesan) atau *underscores* (c. _pesan) kecuali *number* (c. 1_pesan [salah])\n",
    "    2. spasi tidak diperbolehkan untuk memisahkan variabel, gunakan underscores untuk hal tersebut (mis. nama depan menjadi nama_depan)\n",
    "    3. hindari memberikan penamaan variabel dengan python keyword (beruntung untuk orang indonesia)\n",
    "    4. nama variabel disarankan pendek tapi bisa menjelaskan (mis. nama lebih baik daripada n) atau (mis. panjang_persegi lebih baik daripada panjang_dari_persegi)\n",
    "    5. hati-hati menggunakan lowercase letter *l* dan uppercase letter *O*, karena hampir sama dengan angka 1 dan 0\n",
    "- Eror penamaan ketika menggunakan variabel. mis."
   ]
  },
  {
   "cell_type": "code",
   "execution_count": 4,
   "metadata": {},
   "outputs": [
    {
     "output_type": "error",
     "ename": "NameError",
     "evalue": "name 'pean' is not defined",
     "traceback": [
      "\u001b[1;31m---------------------------------------------------------------------------\u001b[0m",
      "\u001b[1;31mNameError\u001b[0m                                 Traceback (most recent call last)",
      "\u001b[1;32m<ipython-input-4-327606bafdab>\u001b[0m in \u001b[0;36m<module>\u001b[1;34m\u001b[0m\n\u001b[0;32m      1\u001b[0m \u001b[0mpesan\u001b[0m \u001b[1;33m=\u001b[0m \u001b[1;34m\"Hello World\"\u001b[0m\u001b[1;33m\u001b[0m\u001b[1;33m\u001b[0m\u001b[0m\n\u001b[1;32m----> 2\u001b[1;33m \u001b[0mprint\u001b[0m\u001b[1;33m(\u001b[0m\u001b[0mpean\u001b[0m\u001b[1;33m)\u001b[0m\u001b[1;33m\u001b[0m\u001b[1;33m\u001b[0m\u001b[0m\n\u001b[0m",
      "\u001b[1;31mNameError\u001b[0m: name 'pean' is not defined"
     ]
    }
   ],
   "source": [
    "pesan = \"Hello World\"\n",
    "print(pean)"
   ]
  },
  {
   "cell_type": "markdown",
   "metadata": {},
   "source": [
    "Output diatas menandakan terjadi error pada baris ke 2, dikarenakan tidak ada nama variabel *pean*"
   ]
  },
  {
   "cell_type": "markdown",
   "metadata": {},
   "source": [
    "### 3. Strings \n",
    "- Dalam python apapun yang berada di dalam tanda kutip (\"*string*\") disebut string, bisa menggunakan kutip satu (') atau kutip dua (\") "
   ]
  },
  {
   "cell_type": "code",
   "execution_count": 5,
   "metadata": {},
   "outputs": [
    {
     "output_type": "execute_result",
     "data": {
      "text/plain": "'Ini adalah bahasa pemrograman python'"
     },
     "metadata": {},
     "execution_count": 5
    }
   ],
   "source": [
    "\"Ini adalah bahasa pemrograman python\"\n",
    "'Ini adalah bahasa pemrograman python'"
   ]
  },
  {
   "cell_type": "markdown",
   "metadata": {},
   "source": [
    "- Merubah case pada string menggunakan method yang ada di python"
   ]
  },
  {
   "cell_type": "code",
   "execution_count": 6,
   "metadata": {
    "tags": []
   },
   "outputs": [
    {
     "output_type": "stream",
     "name": "stdout",
     "text": "Hadi Permana\n"
    }
   ],
   "source": [
    "nama = \"hadi permana\"\n",
    "print(nama.title())"
   ]
  },
  {
   "cell_type": "code",
   "execution_count": 7,
   "metadata": {
    "tags": []
   },
   "outputs": [
    {
     "output_type": "stream",
     "name": "stdout",
     "text": "HADI PERMANA\nhadi permana\n"
    }
   ],
   "source": [
    "nama = \"hadi permana\"\n",
    "print(nama.upper())\n",
    "print(nama.lower())"
   ]
  },
  {
   "cell_type": "markdown",
   "metadata": {},
   "source": [
    "- Kombinasi atau Menggabungkan String (menggunakan plus (*+*))"
   ]
  },
  {
   "cell_type": "code",
   "execution_count": 8,
   "metadata": {
    "tags": []
   },
   "outputs": [
    {
     "output_type": "stream",
     "name": "stdout",
     "text": "hadi permana\n"
    }
   ],
   "source": [
    "nama_depan = \"hadi\"\n",
    "nama_belakang = \"permana\"\n",
    "nama_lengkap = nama_depan +\" \"+ nama_belakang\n",
    "print(nama_lengkap)"
   ]
  },
  {
   "cell_type": "code",
   "execution_count": 9,
   "metadata": {
    "tags": []
   },
   "outputs": [
    {
     "output_type": "stream",
     "name": "stdout",
     "text": "Hello, Hadi Permana!!!!!\n"
    }
   ],
   "source": [
    "print(\"Hello, \" + nama_lengkap.title() + \"!!!!!\")"
   ]
  },
  {
   "cell_type": "markdown",
   "metadata": {},
   "source": [
    "- Menambahkan _whitespaces_ pada String dengan tabs atau newline\n",
    "    - tabs (\\t)\n",
    "    - newline (\\n)"
   ]
  },
  {
   "cell_type": "code",
   "execution_count": 10,
   "metadata": {
    "tags": []
   },
   "outputs": [
    {
     "output_type": "stream",
     "name": "stdout",
     "text": "Bahasa Pemrograman :\n\tPython\n\tJava\n"
    }
   ],
   "source": [
    "print(\"Bahasa Pemrograman :\\n\\tPython\\n\\tJava\")"
   ]
  },
  {
   "cell_type": "markdown",
   "metadata": {},
   "source": [
    "- Stripping whitespaces \n",
    "    - rstrip() : menghapus whitespace yang berada dikanan 'python ' menjadi 'python'\n",
    "    - lstrip() : menghapus whitespace yang berada dikiri ' python' menjadi 'python'\n",
    "    - strip() : menghapus whitespace yang berada didua sisi ' python ' menjadi 'python'"
   ]
  },
  {
   "cell_type": "code",
   "execution_count": 11,
   "metadata": {
    "tags": []
   },
   "outputs": [
    {
     "output_type": "stream",
     "name": "stdout",
     "text": "Indonesia \nIndonesia\n"
    }
   ],
   "source": [
    "bahasa = 'Indonesia '\n",
    "print(bahasa)\n",
    "print(bahasa.rstrip())"
   ]
  },
  {
   "cell_type": "code",
   "execution_count": 12,
   "metadata": {
    "tags": []
   },
   "outputs": [
    {
     "output_type": "stream",
     "name": "stdout",
     "text": "Indonesia\nIndonesia\n"
    }
   ],
   "source": [
    "bahasa = ' Indonesia'\n",
    "print(bahasa)\n",
    "print(bahasa.lstrip())"
   ]
  },
  {
   "cell_type": "code",
   "execution_count": 13,
   "metadata": {
    "tags": []
   },
   "outputs": [
    {
     "output_type": "stream",
     "name": "stdout",
     "text": "Indonesia \nIndonesia\n"
    }
   ],
   "source": [
    "bahasa = ' Indonesia '\n",
    "print(bahasa)\n",
    "print(bahasa.strip())"
   ]
  },
  {
   "cell_type": "markdown",
   "metadata": {},
   "source": [
    "- Menghindari error pada string"
   ]
  },
  {
   "cell_type": "code",
   "execution_count": 14,
   "metadata": {
    "tags": []
   },
   "outputs": [
    {
     "output_type": "stream",
     "name": "stdout",
     "text": "One of Python's strengths is its diverse community.\n"
    }
   ],
   "source": [
    "pesan = \"One of Python's strengths is its diverse community.\"\n",
    "print(pesan)"
   ]
  },
  {
   "cell_type": "code",
   "execution_count": 15,
   "metadata": {},
   "outputs": [
    {
     "output_type": "error",
     "ename": "SyntaxError",
     "evalue": "invalid syntax (<ipython-input-15-e5eb8c7047e4>, line 1)",
     "traceback": [
      "\u001b[1;36m  File \u001b[1;32m\"<ipython-input-15-e5eb8c7047e4>\"\u001b[1;36m, line \u001b[1;32m1\u001b[0m\n\u001b[1;33m    pesan = 'One of Python's strengths is its diverse community.'\u001b[0m\n\u001b[1;37m                           ^\u001b[0m\n\u001b[1;31mSyntaxError\u001b[0m\u001b[1;31m:\u001b[0m invalid syntax\n"
     ]
    }
   ],
   "source": [
    "pesan = 'One of Python's strengths is its diverse community.'"
   ]
  },
  {
   "cell_type": "markdown",
   "metadata": {},
   "source": [
    "### 4. Numbers\n",
    "- Integers\n",
    "- Floats"
   ]
  },
  {
   "cell_type": "markdown",
   "metadata": {},
   "source": [
    "- Integers"
   ]
  },
  {
   "cell_type": "code",
   "execution_count": 16,
   "metadata": {
    "tags": []
   },
   "outputs": [
    {
     "output_type": "stream",
     "name": "stdout",
     "text": "5\n-1\n6\n0.6666666666666666\n"
    }
   ],
   "source": [
    "print(2 + 3)\n",
    "print(2 - 3)\n",
    "print(2 * 3)\n",
    "print(2 / 3)"
   ]
  },
  {
   "cell_type": "code",
   "execution_count": 17,
   "metadata": {
    "tags": []
   },
   "outputs": [
    {
     "output_type": "stream",
     "name": "stdout",
     "text": "9\n27\n1000000\n"
    }
   ],
   "source": [
    "print(3 ** 2)\n",
    "print(3 ** 3)\n",
    "print(10 ** 6)"
   ]
  },
  {
   "cell_type": "code",
   "execution_count": 18,
   "metadata": {},
   "outputs": [
    {
     "output_type": "execute_result",
     "data": {
      "text/plain": "14"
     },
     "metadata": {},
     "execution_count": 18
    }
   ],
   "source": [
    "2 + 3 * 4"
   ]
  },
  {
   "cell_type": "code",
   "execution_count": 19,
   "metadata": {},
   "outputs": [
    {
     "output_type": "execute_result",
     "data": {
      "text/plain": "20"
     },
     "metadata": {},
     "execution_count": 19
    }
   ],
   "source": [
    "(2 + 3) * 4"
   ]
  },
  {
   "cell_type": "markdown",
   "metadata": {},
   "source": [
    "- Floats"
   ]
  },
  {
   "cell_type": "code",
   "execution_count": 20,
   "metadata": {},
   "outputs": [
    {
     "output_type": "execute_result",
     "data": {
      "text/plain": "0.2"
     },
     "metadata": {},
     "execution_count": 20
    }
   ],
   "source": [
    "0.1 + 0.1"
   ]
  },
  {
   "cell_type": "markdown",
   "metadata": {},
   "source": [
    "- Hindari error pada Integer menggunakan casting"
   ]
  },
  {
   "cell_type": "code",
   "execution_count": 21,
   "metadata": {},
   "outputs": [
    {
     "output_type": "error",
     "ename": "NameError",
     "evalue": "name 'age' is not defined",
     "traceback": [
      "\u001b[1;31m---------------------------------------------------------------------------\u001b[0m",
      "\u001b[1;31mNameError\u001b[0m                                 Traceback (most recent call last)",
      "\u001b[1;32m<ipython-input-21-131e189c9f51>\u001b[0m in \u001b[0;36m<module>\u001b[1;34m\u001b[0m\n\u001b[0;32m      1\u001b[0m \u001b[0mumur\u001b[0m \u001b[1;33m=\u001b[0m \u001b[1;36m23\u001b[0m\u001b[1;33m\u001b[0m\u001b[1;33m\u001b[0m\u001b[0m\n\u001b[1;32m----> 2\u001b[1;33m \u001b[0mpesan\u001b[0m \u001b[1;33m=\u001b[0m \u001b[1;34m\"Happy \"\u001b[0m\u001b[1;33m+\u001b[0m \u001b[0mage\u001b[0m \u001b[1;33m+\u001b[0m \u001b[1;34m\"rd Birthday!\"\u001b[0m\u001b[1;33m\u001b[0m\u001b[1;33m\u001b[0m\u001b[0m\n\u001b[0m",
      "\u001b[1;31mNameError\u001b[0m: name 'age' is not defined"
     ]
    }
   ],
   "source": [
    "umur = 23\n",
    "pesan = \"Happy \"+ age + \"rd Birthday!\""
   ]
  },
  {
   "cell_type": "code",
   "execution_count": 22,
   "metadata": {
    "tags": []
   },
   "outputs": [
    {
     "output_type": "stream",
     "name": "stdout",
     "text": "Happy 23rd Birthday!\n"
    }
   ],
   "source": [
    "pesan = \"Happy \"+ str(umur) + \"rd Birthday!\"\n",
    "print(pesan)"
   ]
  },
  {
   "cell_type": "markdown",
   "metadata": {},
   "source": [
    "### 5. Comments"
   ]
  },
  {
   "cell_type": "code",
   "execution_count": 23,
   "metadata": {
    "tags": []
   },
   "outputs": [
    {
     "output_type": "stream",
     "name": "stdout",
     "text": "Python\n"
    }
   ],
   "source": [
    "# Ini Komentar\n",
    "'''\n",
    "ini juga komentar\n",
    "'''\n",
    "print(\"Python\")"
   ]
  },
  {
   "cell_type": "markdown",
   "metadata": {},
   "source": [
    "### 6. The Zen of Pyhton"
   ]
  },
  {
   "cell_type": "code",
   "execution_count": 24,
   "metadata": {
    "tags": []
   },
   "outputs": [
    {
     "output_type": "stream",
     "name": "stdout",
     "text": "The Zen of Python, by Tim Peters\n\nBeautiful is better than ugly.\nExplicit is better than implicit.\nSimple is better than complex.\nComplex is better than complicated.\nFlat is better than nested.\nSparse is better than dense.\nReadability counts.\nSpecial cases aren't special enough to break the rules.\nAlthough practicality beats purity.\nErrors should never pass silently.\nUnless explicitly silenced.\nIn the face of ambiguity, refuse the temptation to guess.\nThere should be one-- and preferably only one --obvious way to do it.\nAlthough that way may not be obvious at first unless you're Dutch.\nNow is better than never.\nAlthough never is often better than *right* now.\nIf the implementation is hard to explain, it's a bad idea.\nIf the implementation is easy to explain, it may be a good idea.\nNamespaces are one honking great idea -- let's do more of those!\n"
    }
   ],
   "source": [
    "import this"
   ]
  }
 ]
}